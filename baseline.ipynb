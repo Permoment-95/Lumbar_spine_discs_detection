{
 "cells": [
  {
   "cell_type": "code",
   "execution_count": null,
   "id": "1eb66b3e",
   "metadata": {},
   "outputs": [],
   "source": [
    "from src import config\n",
    "import os\n",
    "os.environ[\"CUDA_DEVICE_ORDER\"]=\"PCI_BUS_ID\"   # see issue #152\n",
    "os.environ[\"CUDA_VISIBLE_DEVICES\"]=config.NUM_DEVICE\n",
    "DEVICE='cuda'\n",
    "\n",
    "import cv2\n",
    "import sys\n",
    "import numpy as np\n",
    "\n",
    "import optuna\n",
    "from pathlib import Path\n",
    "import torch\n",
    "from torch import nn\n",
    "from torch.utils.data import Dataset, DataLoader\n",
    "import catalyst\n",
    "from catalyst import dl\n",
    "from catalyst import metrics\n",
    "\n",
    "from sklearn.model_selection import train_test_split\n",
    "import matplotlib.pyplot as plt\n",
    "\n",
    "import math\n",
    "import pandas as pd\n",
    "import torch.nn.functional as F\n",
    "\n"
   ]
  },
  {
   "cell_type": "code",
   "execution_count": null,
   "id": "1ff7c922",
   "metadata": {},
   "outputs": [],
   "source": [
    "from src.architecture import LumbarHmModel\n",
    "from src.preprocessing import LumbarDataset, get_aug_test, randAugment"
   ]
  },
  {
   "cell_type": "code",
   "execution_count": null,
   "id": "2b142311",
   "metadata": {},
   "outputs": [],
   "source": [
    "data = pd.read_csv(config.PATH_TO_DATA)\n",
    "train, test = train_test_split(data, test_size=0.2, random_state=777)"
   ]
  },
  {
   "cell_type": "code",
   "execution_count": null,
   "id": "5e843aa2",
   "metadata": {},
   "outputs": [],
   "source": [
    "train_dataset = LumbarDataset(train, tfms=get_aug_test())\n",
    "dataloader_train = DataLoader(train_dataset, batch_size=16, shuffle=True)\n",
    "\n",
    "test_dataset = LumbarDataset(test, tfms=get_aug_test())\n",
    "dataloader_val = DataLoader(test_dataset, batch_size=1, shuffle=False)"
   ]
  },
  {
   "cell_type": "code",
   "execution_count": null,
   "id": "bfaf11d0",
   "metadata": {},
   "outputs": [],
   "source": [
    "model = LumbarHmModel(\"efficientnet-b2\", \"Unet\")\n",
    "criterion = nn.MSELoss()\n",
    "optimizer = torch.optim.AdamW(model.parameters())"
   ]
  },
  {
   "cell_type": "code",
   "execution_count": null,
   "id": "9b88c4a9",
   "metadata": {},
   "outputs": [],
   "source": [
    "loaders = {\n",
    "    \"train\": dataloader_train,\n",
    "    \"valid\": dataloader_val,\n",
    "}"
   ]
  },
  {
   "cell_type": "code",
   "execution_count": null,
   "id": "b1609a34",
   "metadata": {},
   "outputs": [],
   "source": [
    "runner = dl.SupervisedRunner(\n",
    "    input_key=\"features\", output_key=\"logits\", target_key=\"targets\", loss_key=\"loss\"\n",
    ")"
   ]
  },
  {
   "cell_type": "code",
   "execution_count": null,
   "id": "a8272dd6",
   "metadata": {},
   "outputs": [],
   "source": [
    "runner.train(\n",
    "      model=model,\n",
    "      criterion=criterion,\n",
    "      optimizer=optimizer, \n",
    "      loaders=loaders, \n",
    "      num_epochs=300,\n",
    "      verbose=True, # you can pass True for more precise training process logging\n",
    "      logdir=\"/storage1/ryazantsev/lumbar_spine/experiments/unet+efficientnetb2\",\n",
    "      timeit=False,\n",
    "      valid_loader=\"valid\",\n",
    "      valid_metric=\"loss\",\n",
    "      minimize_valid_metric=True,\n",
    "        callbacks=[\n",
    "            dl.EarlyStoppingCallback(patience=25, loader_key='valid', metric_key=\"loss\", minimize=True),\n",
    "        ],\n",
    "    )"
   ]
  }
 ],
 "metadata": {
  "kernelspec": {
   "display_name": "Python 3",
   "language": "python",
   "name": "python3"
  },
  "language_info": {
   "codemirror_mode": {
    "name": "ipython",
    "version": 3
   },
   "file_extension": ".py",
   "mimetype": "text/x-python",
   "name": "python",
   "nbconvert_exporter": "python",
   "pygments_lexer": "ipython3",
   "version": "3.6.9"
  }
 },
 "nbformat": 4,
 "nbformat_minor": 5
}
