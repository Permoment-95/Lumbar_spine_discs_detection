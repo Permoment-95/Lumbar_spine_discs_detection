{
 "cells": [
  {
   "cell_type": "code",
   "execution_count": 1,
   "id": "1eb66b3e",
   "metadata": {},
   "outputs": [],
   "source": [
    "import os\n",
    "os.environ[\"CUDA_DEVICE_ORDER\"]=\"PCI_BUS_ID\"   # see issue #152\n",
    "os.environ[\"CUDA_VISIBLE_DEVICES\"]=\"0\"\n",
    "DEVICE='cuda'\n",
    "\n",
    "import cv2\n",
    "import sys\n",
    "import numpy as np\n",
    "\n",
    "import optuna\n",
    "from pathlib import Path\n",
    "import torch\n",
    "from torch import nn\n",
    "from torch.utils.data import Dataset, DataLoader\n",
    "import catalyst\n",
    "from catalyst import dl\n",
    "from catalyst import metrics\n",
    "\n",
    "from sklearn.model_selection import train_test_split\n",
    "import matplotlib.pyplot as plt\n",
    "\n",
    "import math\n",
    "import pandas as pd\n",
    "import torch.nn.functional as F\n",
    "\n",
    "from src import config"
   ]
  },
  {
   "cell_type": "code",
   "execution_count": 2,
   "id": "1ff7c922",
   "metadata": {},
   "outputs": [],
   "source": [
    "from src.architecture import LumbarHmModel\n",
    "from src.preprocessing import LumbarDataset, get_aug_test, randAugment"
   ]
  },
  {
   "cell_type": "code",
   "execution_count": 3,
   "id": "2b142311",
   "metadata": {},
   "outputs": [],
   "source": [
    "data = pd.read_csv(config.PATH_TO_DATA)\n",
    "train, test = train_test_split(data, test_size=0.2, random_state=777)"
   ]
  },
  {
   "cell_type": "code",
   "execution_count": 6,
   "id": "9f4a3472",
   "metadata": {},
   "outputs": [],
   "source": [
    "model = LumbarHmModel(\"efficientnet-b2\", \"Unet\")"
   ]
  },
  {
   "cell_type": "code",
   "execution_count": 8,
   "id": "5e843aa2",
   "metadata": {},
   "outputs": [],
   "source": [
    "train_dataset = LumbarDataset(train, tfms=get_aug_test())\n",
    "dataloader_train = DataLoader(train_dataset, batch_size=16, shuffle=True)\n",
    "\n",
    "test_dataset = LumbarDataset(test, tfms=get_aug_test())\n",
    "dataloader_val = DataLoader(test_dataset, batch_size=1, shuffle=False)"
   ]
  },
  {
   "cell_type": "code",
   "execution_count": null,
   "id": "bfaf11d0",
   "metadata": {},
   "outputs": [],
   "source": [
    "criterion = nn.MSELoss()\n",
    "model = HmBaseline().to('cuda:0')\n",
    "optimizer = torch.optim.AdamW(model.parameters())"
   ]
  }
 ],
 "metadata": {
  "kernelspec": {
   "display_name": "Python 3",
   "language": "python",
   "name": "python3"
  },
  "language_info": {
   "codemirror_mode": {
    "name": "ipython",
    "version": 3
   },
   "file_extension": ".py",
   "mimetype": "text/x-python",
   "name": "python",
   "nbconvert_exporter": "python",
   "pygments_lexer": "ipython3",
   "version": "3.6.9"
  }
 },
 "nbformat": 4,
 "nbformat_minor": 5
}
