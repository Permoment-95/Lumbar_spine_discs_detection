{
 "cells": [
  {
   "cell_type": "code",
   "execution_count": null,
   "id": "6da5692f",
   "metadata": {},
   "outputs": [],
   "source": [
    "import numpy as np\n",
    "import pickle\n",
    "import matplotlib.pyplot as plt\n",
    "import cv2\n",
    "from imutils import perspective\n",
    "import os\n",
    "from tqdm.notebook import tqdm\n",
    "import pandas as pd\n",
    "from tqdm.notebook import tqdm\n",
    "from src import config"
   ]
  },
  {
   "cell_type": "code",
   "execution_count": null,
   "id": "c29d5414",
   "metadata": {},
   "outputs": [],
   "source": [
    "def gaussian2D(shape, sigma=1):\n",
    "    m, n = [(ss - 1.) / 2. for ss in shape]\n",
    "    y, x = np.ogrid[-m:m+1,-n:n+1]\n",
    "\n",
    "    h = np.exp(-(x * x + y * y) / (2 * sigma * sigma))\n",
    "    h[h < np.finfo(h.dtype).eps * h.max()] = 0\n",
    "    return h\n",
    "\n",
    "def draw_umich_gaussian(heatmap, center, radius, k=1):\n",
    "    diameter = 2 * radius + 1\n",
    "    gaussian = gaussian2D((diameter, diameter), sigma=diameter / 6)\n",
    "\n",
    "    x, y = int(center[0]), int(center[1])\n",
    "\n",
    "    height, width = heatmap.shape[0:2]\n",
    "\n",
    "    left, right = min(x, radius), min(width - x, radius + 1)\n",
    "    top, bottom = min(y, radius), min(height - y, radius + 1)\n",
    "\n",
    "    masked_heatmap = heatmap[y - top:y + bottom, x - left:x + right]\n",
    "    masked_gaussian = gaussian[radius - top:radius + bottom, radius - left:radius + right]\n",
    "    if min(masked_gaussian.shape) > 0 and min(masked_heatmap.shape) > 0:  # TODO debug\n",
    "        np.maximum(masked_heatmap, masked_gaussian * k, out=masked_heatmap)\n",
    "    return masked_heatmap"
   ]
  },
  {
   "cell_type": "code",
   "execution_count": null,
   "id": "965c5a43",
   "metadata": {},
   "outputs": [],
   "source": [
    "path = config.PATH_TO_TRAIN_IMAGES\n",
    "with open(config.PATH_TO_ANNOTATION, 'rb') as f:\n",
    "    annotations = pickle.load(f)"
   ]
  },
  {
   "cell_type": "code",
   "execution_count": null,
   "id": "92e681a0",
   "metadata": {},
   "outputs": [],
   "source": [
    "paths_img = []\n",
    "paths_hm = []\n",
    "\n",
    "for file in os.listdir(path):\n",
    "    bboxes = []\n",
    "    centroids = []\n",
    "    abs_path = os.path.join(path, file)\n",
    "    slice_img = np.load(abs_path)\n",
    "    hm = np.zeros((5, slice_img.shape[0], slice_img.shape[1]))\n",
    "    \n",
    "    for key in annotations[file.split('.')[0]].keys():\n",
    "        (xc,yc),(w,h),angle = annotations[file.split('.')[0]][key]\n",
    "        bbox = perspective.order_points(cv2.boxPoints(((xc,yc), (w, h), angle)))\n",
    "        centroids.append((xc,yc))\n",
    "        bboxes.append(bbox)\n",
    "        \n",
    "    for k in range(len(annotations[file.split('.')[0]].keys())):\n",
    "        draw_umich_gaussian(hm[0,:,:], centroids[k], radius=8)\n",
    "        draw_umich_gaussian(hm[1,:,:], bboxes[k][0], radius=8)\n",
    "        draw_umich_gaussian(hm[2,:,:], bboxes[k][1], radius=8)\n",
    "        draw_umich_gaussian(hm[3,:,:], bboxes[k][2], radius=8)\n",
    "        draw_umich_gaussian(hm[4,:,:], bboxes[k][3], radius=8)\n",
    "    \n",
    "    paths_img.append(abs_path)\n",
    "    paths_hm.append(os.path.join(config.PATH_TO_DUMP_HM, file))\n",
    "    \n",
    "    np.save(os.path.join(config.PATH_TO_DUMP_HM, file),np.array(hm))"
   ]
  },
  {
   "cell_type": "code",
   "execution_count": null,
   "id": "60ece6e1",
   "metadata": {},
   "outputs": [],
   "source": [
    "data = pd.DataFrame({'path_slice': paths_img, 'path_hm': paths_hm})"
   ]
  },
  {
   "cell_type": "code",
   "execution_count": null,
   "id": "b2a8bf10",
   "metadata": {},
   "outputs": [],
   "source": [
    "data.to_csv(config.PATH_TO_DATA)"
   ]
  },
  {
   "cell_type": "code",
   "execution_count": null,
   "id": "7ee2f772",
   "metadata": {},
   "outputs": [],
   "source": [
    "plt.figure(figsize=(15,15))\n",
    "plt.imshow(slice_img, cmap = 'gray')\n",
    "plt.imshow(hm[1], cmap='hot', alpha=0.2)\n",
    "plt.imshow(hm[2], cmap='hot', alpha=0.2)\n",
    "plt.imshow(hm[3], cmap='hot', alpha=0.2)\n",
    "plt.imshow(hm[4], cmap='hot', alpha=0.2)\n",
    "plt.imshow(hm[0], cmap='hot', alpha=0.2)"
   ]
  },
  {
   "cell_type": "code",
   "execution_count": null,
   "id": "c7d98fed",
   "metadata": {},
   "outputs": [],
   "source": [
    "np.array(bboxes).shape"
   ]
  },
  {
   "cell_type": "code",
   "execution_count": null,
   "id": "ff974998",
   "metadata": {},
   "outputs": [],
   "source": [
    "plt.figure(figsize=(15,15))\n",
    "plt.imshow(slice_img, cmap = 'gray')\n",
    "plt.scatter(np.array(bboxes)[:,:,0],np.array(bboxes)[:,:,1])\n",
    "plt.scatter(np.array(bboxes)[:,0,0],np.array(bboxes)[:,0,1], color='red')\n",
    "plt.scatter(np.array(bboxes)[:,1,0],np.array(bboxes)[:,1,1], color='green')\n",
    "plt.scatter(np.array(bboxes)[:,2,0],np.array(bboxes)[:,2,1], color='blue')\n",
    "plt.scatter(np.array(bboxes)[:,3,0],np.array(bboxes)[:,3,1], color='yellow')\n",
    "plt.scatter(np.array(centroids)[:,0], np.array(centroids)[:,1])"
   ]
  }
 ],
 "metadata": {
  "kernelspec": {
   "display_name": "Python 3",
   "language": "python",
   "name": "python3"
  },
  "language_info": {
   "codemirror_mode": {
    "name": "ipython",
    "version": 3
   },
   "file_extension": ".py",
   "mimetype": "text/x-python",
   "name": "python",
   "nbconvert_exporter": "python",
   "pygments_lexer": "ipython3",
   "version": "3.6.9"
  }
 },
 "nbformat": 4,
 "nbformat_minor": 5
}
