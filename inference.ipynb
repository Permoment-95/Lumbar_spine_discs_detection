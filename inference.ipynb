{
 "cells": [
  {
   "cell_type": "code",
   "execution_count": 1,
   "id": "a2123d35",
   "metadata": {},
   "outputs": [],
   "source": [
    "import os\n",
    "from src import config\n",
    "os.environ[\"CUDA_DEVICE_ORDER\"]=\"PCI_BUS_ID\"   # see issue #152\n",
    "os.environ[\"CUDA_VISIBLE_DEVICES\"]= config.NUM_DEVICE\n",
    "DEVICE='cuda'\n",
    "\n",
    "import pandas as pd\n",
    "import torch\n",
    "import cv2\n",
    "import numpy as np\n",
    "import sys\n",
    "import math\n",
    "from pathlib import Path\n",
    "from torch import nn\n",
    "import torch.nn.functional as F\n",
    "from sklearn.model_selection import train_test_split\n",
    "from torch.utils.data import Dataset, DataLoader\n",
    "import matplotlib.pyplot as plt\n",
    "import pickle\n",
    "\n",
    "from src.preprocessing import LumbarDataset, get_aug_test\n",
    "from src.architecture import LumbarHmModel\n",
    "\n",
    "from src.postprocessing import topk, get_coordinates_hm, annotation_format, intersection_over_union\n",
    "from tqdm.notebook import tqdm"
   ]
  },
  {
   "cell_type": "code",
   "execution_count": 2,
   "id": "ba739a0a",
   "metadata": {},
   "outputs": [],
   "source": [
    "data = pd.read_csv(config.PATH_TO_DATA)\n",
    "path = '../train_data/slices_train/'\n",
    "with open(config.PATH_TO_ANNOTATION, 'rb') as f:\n",
    "    annotations = pickle.load(f)"
   ]
  },
  {
   "cell_type": "code",
   "execution_count": 3,
   "id": "2b2ebd65",
   "metadata": {},
   "outputs": [],
   "source": [
    "train, test = train_test_split(data, test_size=0.2, random_state=config.SEED)\n",
    "\n",
    "train_dataset = LumbarDataset(train, tfms=get_aug_test(), train=False)\n",
    "dataloader_train = DataLoader(train_dataset, batch_size=config.BATCH_SIZE_TRAIN, shuffle=True)\n",
    "\n",
    "test_dataset = LumbarDataset(test, tfms=get_aug_test(), train=False)\n",
    "dataloader_val = DataLoader(test_dataset, batch_size=config.BATCH_SIZE_TEST, shuffle=False)"
   ]
  },
  {
   "cell_type": "code",
   "execution_count": 4,
   "id": "0a61e9ef",
   "metadata": {},
   "outputs": [],
   "source": [
    "model = LumbarHmModel(encoder = config.ENCODER, decoder = config.DECODER).to(DEVICE)"
   ]
  },
  {
   "cell_type": "code",
   "execution_count": 5,
   "id": "7302b492",
   "metadata": {},
   "outputs": [
    {
     "data": {
      "text/plain": [
       "<All keys matched successfully>"
      ]
     },
     "execution_count": 5,
     "metadata": {},
     "output_type": "execute_result"
    }
   ],
   "source": [
    "model.backbone.load_state_dict(torch.load(config.BEST_MODEL)['model_state_dict'])"
   ]
  },
  {
   "cell_type": "code",
   "execution_count": 6,
   "id": "63c7770f",
   "metadata": {},
   "outputs": [],
   "source": [
    "model.eval();"
   ]
  },
  {
   "cell_type": "code",
   "execution_count": null,
   "id": "91966cb4",
   "metadata": {},
   "outputs": [
    {
     "data": {
      "application/vnd.jupyter.widget-view+json": {
       "model_id": "41268979387e4766913d2510837dff73",
       "version_major": 2,
       "version_minor": 0
      },
      "text/plain": [
       "  0%|          | 0/120 [00:00<?, ?it/s]"
      ]
     },
     "metadata": {},
     "output_type": "display_data"
    }
   ],
   "source": [
    "metrics = []\n",
    "\n",
    "for x, y, source_shape, path in tqdm(dataloader_val):\n",
    "    preds = []\n",
    "    targets = []\n",
    "    \n",
    "    out = model(x.to(DEVICE)).detach().cpu()\n",
    "    source_shape = np.array(source_shape)\n",
    "    out_resize = torch.tensor(cv2.resize(out.permute(0,2,3,1)[0].numpy(), (source_shape[1], source_shape[0])).reshape(1,source_shape[0],source_shape[1],5)).permute(0,3,1,2)\n",
    "    bboxes, cts = get_coordinates_hm(out_resize)\n",
    "    annot = annotations[path[0].split('/')[-1].split('.')[0]]\n",
    "    if len(annot) != len(cts):\n",
    "        continue\n",
    "    outputs, bboxes = annotation_format(bboxes)\n",
    "    for i in range(len(outputs)):\n",
    "        pred = np.array(outputs[i][0:2]).flatten()\n",
    "        target = np.array(annotations[path[0].split('/')[-1].split('.')[0]][i][0:2]).flatten()\n",
    "        preds.append(pred)\n",
    "        targets.append(target)\n",
    "        \n",
    "    iou_= torch.mean(intersection_over_union(torch.tensor(preds), torch.tensor(targets))).item()\n",
    "    metrics.append(iou_)"
   ]
  },
  {
   "cell_type": "code",
   "execution_count": 8,
   "id": "74c19e46",
   "metadata": {},
   "outputs": [
    {
     "data": {
      "text/plain": [
       "0.8418001428795593"
      ]
     },
     "execution_count": 8,
     "metadata": {},
     "output_type": "execute_result"
    }
   ],
   "source": [
    "np.mean(metrics)"
   ]
  }
 ],
 "metadata": {
  "kernelspec": {
   "display_name": "Python 3",
   "language": "python",
   "name": "python3"
  },
  "language_info": {
   "codemirror_mode": {
    "name": "ipython",
    "version": 3
   },
   "file_extension": ".py",
   "mimetype": "text/x-python",
   "name": "python",
   "nbconvert_exporter": "python",
   "pygments_lexer": "ipython3",
   "version": "3.6.9"
  }
 },
 "nbformat": 4,
 "nbformat_minor": 5
}
